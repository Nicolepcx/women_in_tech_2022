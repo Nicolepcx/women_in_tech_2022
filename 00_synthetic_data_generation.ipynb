version https://git-lfs.github.com/spec/v1
oid sha256:bcf89af9095f803fea0f1bede9fcd512bf9a19ea0597abee0e3d7fa0714cdbfb
size 164911
