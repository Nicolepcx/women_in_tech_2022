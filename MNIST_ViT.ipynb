version https://git-lfs.github.com/spec/v1
oid sha256:97e8ad088882d3ea033a9b0c1f9fb80f490a97a3f54b3d882fcb35ed9f0a6994
size 177470814
